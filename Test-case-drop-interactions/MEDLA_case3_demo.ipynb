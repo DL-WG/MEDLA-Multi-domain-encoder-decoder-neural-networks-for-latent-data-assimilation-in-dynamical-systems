{
 "cells": [
  {
   "cell_type": "code",
   "execution_count": 1,
   "metadata": {},
   "outputs": [],
   "source": [
    "import os\n",
    "import glob\n",
    "import random\n",
    "import copy\n",
    "import matplotlib.pyplot as plt\n",
    "\n",
    "import numpy as np\n",
    "import torch\n",
    "import torch.nn as nn\n",
    "from sklearn.model_selection import train_test_split\n",
    "\n",
    "from MEDLA import *"
   ]
  },
  {
   "cell_type": "code",
   "execution_count": 2,
   "metadata": {},
   "outputs": [],
   "source": [
    "def seed_everything(seed: int):\n",
    "    random.seed(seed)\n",
    "    os.environ['PYTHONHASHSEED'] = str(seed)\n",
    "    np.random.seed(seed)\n",
    "    torch.manual_seed(seed)\n",
    "    torch.cuda.manual_seed(seed)\n",
    "    torch.backends.cudnn.deterministic = True\n",
    "    torch.backends.cudnn.benchmark = True\n",
    "\n",
    "seed_everything(0)"
   ]
  },
  {
   "cell_type": "code",
   "execution_count": 3,
   "metadata": {},
   "outputs": [
    {
     "data": {
      "text/plain": [
       "<All keys matched successfully>"
      ]
     },
     "execution_count": 3,
     "metadata": {},
     "output_type": "execute_result"
    }
   ],
   "source": [
    "device = torch.device(\"cuda:0\" if torch.cuda.is_available() else \"cpu\")\n",
    "batch_size = 64\n",
    "\n",
    "encoder_channel = [8, 16, 32] # Channels of encoder1, encoder2 are the same\n",
    "encoder_channel2 = [8, 16, 32]\n",
    "encoder1_kernel = [16, 8, 4]\n",
    "encoder2_kernel = [16, 8, 4]\n",
    "encoder1_pool = [4, 4, 4]\n",
    "encoder2_pool = [4, 4, 4]\n",
    "\n",
    "MEDLA_model = MEDLA(en1_chan_list = encoder_channel, en2_chan_list = encoder_channel2, en1_pool_list = encoder1_pool,\n",
    "                en1_ker_list = encoder1_kernel, en2_pool_list = encoder2_pool, en2_ker_list = encoder2_kernel)\n",
    "MEDLA_model = MEDLA_model.to(device)\n",
    "\n",
    "MEDLA_model.load_state_dict(torch.load('MEDLA_BCE_ft.pth', map_location=torch.device('cpu')))"
   ]
  },
  {
   "cell_type": "code",
   "execution_count": 4,
   "metadata": {},
   "outputs": [],
   "source": [
    "class timeseries(Dataset):\n",
    "    def __init__(self,x,y):\n",
    "        self.x = torch.tensor(x,dtype=torch.float32)\n",
    "        self.y = torch.tensor(y,dtype=torch.float32)\n",
    "        self.len = x.shape[0]\n",
    "\n",
    "    def __getitem__(self,idx):\n",
    "        return self.x[idx],self.y[idx]\n",
    "  \n",
    "    def __len__(self):\n",
    "        return self.len\n",
    "\n",
    "class DropsLSTM(nn.Module):\n",
    "    def __init__(self, hidden_layers=100, n_layer=2):\n",
    "        super(DropsLSTM, self).__init__()\n",
    "        self.hidden_layers = hidden_layers\n",
    "        self.n_layer = n_layer\n",
    "        # lstm1, lstm2, linear are all layers in the network\n",
    "        self.lstm = torch.nn.LSTM(input_size = 16, hidden_size = self.hidden_layers,\n",
    "                                  num_layers = self.n_layer, batch_first=True)\n",
    "        self.linear = nn.Sequential(\n",
    "                                    nn.Linear(self.hidden_layers, self.hidden_layers),\n",
    "                                    nn.LeakyReLU(),\n",
    "                                    #nn.Dropout(p=0.1),\n",
    "                                    nn.Linear(self.hidden_layers, self.hidden_layers),\n",
    "                                    nn.LeakyReLU(),\n",
    "                                    nn.Dropout(p=0.1),\n",
    "                                    nn.Linear(self.hidden_layers, 16),\n",
    "                                    #nn.LeakyReLU(negative_slope=0.3)\n",
    "                                    )\n",
    "        \n",
    "    def forward(self, x):\n",
    "        out,_ = self.lstm(x)\n",
    "        out = self.linear(out)\n",
    "        return out\n",
    "    \n",
    "    def init_hidden(self, batch_size):\n",
    "        hidden_state = torch.randn(self.n_layer,batch_size,self.hidden_layers)\n",
    "        cell_state = torch.randn(self.n_layer,batch_size,self.hidden_layers)\n",
    "        self.hidden = (hidden_state, cell_state)\n",
    "\n",
    "class LSTM_Trainer:\n",
    "    def __init__(self, *, dataloader_dict: dict, model, lr: float, num_epoch: int):\n",
    "        self.dataloader_dict = dataloader_dict\n",
    "        self.model = model\n",
    "        self.lr = lr\n",
    "        self.optimizer = torch.optim.Adam(self.model.parameters(), lr = self.lr)\n",
    "        self.scheduler = torch.optim.lr_scheduler.ReduceLROnPlateau(self.optimizer, mode=\"min\", patience=50, verbose=True)\n",
    "        self.best_wts = copy.deepcopy(self.model.state_dict())\n",
    "        self.best_loss = np.inf\n",
    "        self.criterion = nn.MSELoss()\n",
    "        self.num_epoch = num_epoch\n",
    "        self.device = torch.device(\"cuda:0\" if torch.cuda.is_available() else \"cpu\")\n",
    "        #self.device = torch.device(\"cpu\")\n",
    "        print(f\"Using {self.device} device\")\n",
    "        print(\"PyTorch Version: \",torch.__version__)\n",
    "        \n",
    "        self.model.to(self.device)\n",
    "\n",
    "    def _do_epoch(self, epoch: int, phase: str):\n",
    "        running_loss = 0.\n",
    "        sample_num = len(self.dataloader_dict[phase].sampler)\n",
    "        if phase == 'train':\n",
    "            self.model.train()\n",
    "        else:\n",
    "            self.model.eval()\n",
    "        for inputs, labels in self.dataloader_dict[phase]:\n",
    "            inputs = inputs.to(self.device)\n",
    "            labels = labels.to(self.device)\n",
    "            # forward\n",
    "            self.optimizer.zero_grad()\n",
    "            outputs = self.model(inputs)\n",
    "            loss = self.criterion(outputs, labels)\n",
    "            if phase == \"train\":\n",
    "                # backward\n",
    "                loss.backward()\n",
    "                self.optimizer.step()\n",
    "            running_loss += loss.item()*inputs.size(0)\n",
    "        return running_loss/sample_num\n",
    "    \n",
    "    def run(self):\n",
    "        for epoch in range(self.num_epoch):\n",
    "            train_loss = self._do_epoch(epoch, \"train\")\n",
    "            with torch.no_grad():\n",
    "                val_loss = self._do_epoch(epoch, \"val\")\n",
    "                self.scheduler.step(val_loss)\n",
    "            if val_loss < self.best_loss:\n",
    "                self.best_loss = val_loss\n",
    "                self.best_wts = copy.deepcopy(self.model.state_dict())  \n",
    "                torch.save(self.model.state_dict(), \"best_lstm.pth\")\n",
    "            if epoch % 10 == 0:\n",
    "                print(f\"Epoch {epoch+1}/{self.num_epoch}, train_loss: {train_loss:>7f}, val_loss: {val_loss:>7f}\")\n",
    "        print('LSTM training end\\n')"
   ]
  },
  {
   "cell_type": "code",
   "execution_count": 5,
   "metadata": {},
   "outputs": [],
   "source": [
    "seq_length=5\n",
    "def getTrain(seq_length:int):\n",
    "    encoded_dir_list = glob.glob('encoded_traj_BCE/exp/*_03_*.npy')\n",
    "    sample_arr = np.zeros((0,seq_length,16))\n",
    "    label_arr = np.zeros((0,seq_length,16))\n",
    "    for dir in encoded_dir_list:\n",
    "        encoded = np.load(dir)\n",
    "        num_seq = encoded.shape[0]-2*seq_length+1\n",
    "        for i in range(num_seq):\n",
    "            sample_arr = np.concatenate((sample_arr, encoded[i:i+seq_length].reshape(1,seq_length,16)), axis=0)\n",
    "            label_arr = np.concatenate((label_arr, encoded[i+seq_length:i+2*seq_length].reshape(1,seq_length,16)), axis=0)\n",
    "    return sample_arr, label_arr\n",
    "\n",
    "def getFullTrain(seq_length:int):\n",
    "    encoded_dir_list = glob.glob('encoded_traj_BCE/0306/*.npy')\n",
    "    sample_arr = np.zeros((0,seq_length,16))\n",
    "    label_arr = np.zeros((0,seq_length,16))\n",
    "    for dir in encoded_dir_list:\n",
    "        encoded = np.load(dir)\n",
    "        num_seq = encoded.shape[0]-2*seq_length+1\n",
    "        for i in range(num_seq):\n",
    "            sample_arr = np.concatenate((sample_arr, encoded[i:i+seq_length].reshape(1,seq_length,16)), axis=0)\n",
    "            label_arr = np.concatenate((label_arr, encoded[i+seq_length:i+2*seq_length].reshape(1,seq_length,16)), axis=0)\n",
    "    return sample_arr, label_arr\n",
    "\n",
    "\n",
    "x_train, y_train = getFullTrain(seq_length)\n",
    "x_train, x_val, y_train, y_val = train_test_split(x_train, y_train, test_size=0.2, random_state=0, shuffle=True)\n",
    "\n",
    "train_dataset_lstm = timeseries(x_train,y_train)\n",
    "val_dataset_lstm = timeseries(x_val, y_val)\n",
    "train_dataloader_lstm = DataLoader(train_dataset_lstm, batch_size=32)\n",
    "val_dataloader_lstm = DataLoader(val_dataset_lstm, batch_size=32)\n",
    "\n",
    "dataloader_dict_lstm ={'train' : train_dataloader_lstm, 'val' : val_dataloader_lstm}"
   ]
  },
  {
   "cell_type": "code",
   "execution_count": 6,
   "metadata": {},
   "outputs": [],
   "source": [
    "LSTM_model = DropsLSTM(128, 3)"
   ]
  },
  {
   "cell_type": "code",
   "execution_count": 7,
   "metadata": {},
   "outputs": [
    {
     "name": "stdout",
     "output_type": "stream",
     "text": [
      "Using cuda:0 device\n",
      "PyTorch Version:  2.0.1\n"
     ]
    }
   ],
   "source": [
    "lstm_trainer = LSTM_Trainer(dataloader_dict=dataloader_dict_lstm, model=LSTM_model, lr= 0.01, num_epoch=1000)"
   ]
  },
  {
   "cell_type": "code",
   "execution_count": 8,
   "metadata": {},
   "outputs": [
    {
     "name": "stdout",
     "output_type": "stream",
     "text": [
      "Epoch 1/1000, train_loss: 3.757619, val_loss: 2.036013\n",
      "Epoch 11/1000, train_loss: 0.187566, val_loss: 0.124734\n",
      "Epoch 21/1000, train_loss: 0.147523, val_loss: 0.089333\n",
      "Epoch 31/1000, train_loss: 0.125313, val_loss: 0.056561\n",
      "Epoch 41/1000, train_loss: 0.189053, val_loss: 0.171985\n",
      "Epoch 51/1000, train_loss: 0.120140, val_loss: 0.057972\n",
      "Epoch 61/1000, train_loss: 0.117134, val_loss: 0.042588\n",
      "Epoch 71/1000, train_loss: 0.123993, val_loss: 0.048075\n",
      "Epoch 81/1000, train_loss: 0.113963, val_loss: 0.044925\n",
      "Epoch 91/1000, train_loss: 0.107395, val_loss: 0.034152\n",
      "Epoch 101/1000, train_loss: 0.106999, val_loss: 0.061862\n",
      "Epoch 111/1000, train_loss: 0.098600, val_loss: 0.033816\n",
      "Epoch 121/1000, train_loss: 0.107440, val_loss: 0.056165\n",
      "Epoch 00128: reducing learning rate of group 0 to 1.0000e-03.\n",
      "Epoch 131/1000, train_loss: 0.077918, val_loss: 0.011983\n",
      "Epoch 141/1000, train_loss: 0.074778, val_loss: 0.009538\n",
      "Epoch 151/1000, train_loss: 0.073043, val_loss: 0.010073\n",
      "Epoch 161/1000, train_loss: 0.073542, val_loss: 0.008601\n",
      "Epoch 171/1000, train_loss: 0.071221, val_loss: 0.009250\n",
      "Epoch 181/1000, train_loss: 0.071277, val_loss: 0.009045\n",
      "Epoch 191/1000, train_loss: 0.071120, val_loss: 0.008008\n",
      "Epoch 201/1000, train_loss: 0.069673, val_loss: 0.009444\n",
      "Epoch 211/1000, train_loss: 0.069676, val_loss: 0.008926\n",
      "Epoch 221/1000, train_loss: 0.069116, val_loss: 0.008869\n",
      "Epoch 231/1000, train_loss: 0.068411, val_loss: 0.007880\n",
      "Epoch 241/1000, train_loss: 0.067457, val_loss: 0.008467\n",
      "Epoch 251/1000, train_loss: 0.067681, val_loss: 0.007351\n",
      "Epoch 261/1000, train_loss: 0.066452, val_loss: 0.008224\n",
      "Epoch 271/1000, train_loss: 0.067107, val_loss: 0.008108\n",
      "Epoch 281/1000, train_loss: 0.067714, val_loss: 0.007569\n",
      "Epoch 291/1000, train_loss: 0.066591, val_loss: 0.007190\n",
      "Epoch 301/1000, train_loss: 0.067176, val_loss: 0.008002\n",
      "Epoch 311/1000, train_loss: 0.066601, val_loss: 0.007863\n",
      "Epoch 321/1000, train_loss: 0.065580, val_loss: 0.007678\n",
      "Epoch 331/1000, train_loss: 0.066256, val_loss: 0.007201\n",
      "Epoch 341/1000, train_loss: 0.066356, val_loss: 0.007191\n",
      "Epoch 351/1000, train_loss: 0.066040, val_loss: 0.007747\n",
      "Epoch 361/1000, train_loss: 0.065528, val_loss: 0.007747\n",
      "Epoch 371/1000, train_loss: 0.066279, val_loss: 0.007786\n",
      "Epoch 381/1000, train_loss: 0.065117, val_loss: 0.007648\n",
      "Epoch 391/1000, train_loss: 0.064133, val_loss: 0.006919\n",
      "Epoch 401/1000, train_loss: 0.065792, val_loss: 0.007408\n",
      "Epoch 411/1000, train_loss: 0.064933, val_loss: 0.007399\n",
      "Epoch 421/1000, train_loss: 0.065376, val_loss: 0.007663\n",
      "Epoch 431/1000, train_loss: 0.064417, val_loss: 0.008196\n",
      "Epoch 441/1000, train_loss: 0.064592, val_loss: 0.007273\n",
      "Epoch 451/1000, train_loss: 0.064276, val_loss: 0.007279\n",
      "Epoch 00458: reducing learning rate of group 0 to 1.0000e-04.\n",
      "Epoch 461/1000, train_loss: 0.062497, val_loss: 0.005126\n",
      "Epoch 471/1000, train_loss: 0.062528, val_loss: 0.005226\n",
      "Epoch 481/1000, train_loss: 0.061487, val_loss: 0.005378\n",
      "Epoch 491/1000, train_loss: 0.062473, val_loss: 0.005294\n",
      "Epoch 501/1000, train_loss: 0.061634, val_loss: 0.005304\n",
      "Epoch 511/1000, train_loss: 0.062211, val_loss: 0.005217\n",
      "Epoch 521/1000, train_loss: 0.062347, val_loss: 0.005193\n",
      "Epoch 531/1000, train_loss: 0.061678, val_loss: 0.005204\n",
      "Epoch 00540: reducing learning rate of group 0 to 1.0000e-05.\n",
      "Epoch 541/1000, train_loss: 0.061137, val_loss: 0.005231\n",
      "Epoch 551/1000, train_loss: 0.062083, val_loss: 0.005045\n",
      "Epoch 561/1000, train_loss: 0.061239, val_loss: 0.005091\n",
      "Epoch 571/1000, train_loss: 0.061743, val_loss: 0.005016\n",
      "Epoch 581/1000, train_loss: 0.061634, val_loss: 0.005029\n",
      "Epoch 591/1000, train_loss: 0.061427, val_loss: 0.005046\n",
      "Epoch 601/1000, train_loss: 0.062268, val_loss: 0.005014\n",
      "Epoch 611/1000, train_loss: 0.061354, val_loss: 0.005074\n",
      "Epoch 621/1000, train_loss: 0.061876, val_loss: 0.004979\n",
      "Epoch 631/1000, train_loss: 0.061884, val_loss: 0.005005\n",
      "Epoch 641/1000, train_loss: 0.062059, val_loss: 0.005030\n",
      "Epoch 651/1000, train_loss: 0.061669, val_loss: 0.005043\n",
      "Epoch 00657: reducing learning rate of group 0 to 1.0000e-06.\n",
      "Epoch 661/1000, train_loss: 0.061905, val_loss: 0.005016\n",
      "Epoch 671/1000, train_loss: 0.061672, val_loss: 0.005027\n",
      "Epoch 681/1000, train_loss: 0.061769, val_loss: 0.005033\n",
      "Epoch 691/1000, train_loss: 0.061560, val_loss: 0.005017\n",
      "Epoch 701/1000, train_loss: 0.060950, val_loss: 0.005022\n",
      "Epoch 00708: reducing learning rate of group 0 to 1.0000e-07.\n",
      "Epoch 711/1000, train_loss: 0.061417, val_loss: 0.005019\n",
      "Epoch 721/1000, train_loss: 0.061402, val_loss: 0.005018\n",
      "Epoch 731/1000, train_loss: 0.061771, val_loss: 0.005019\n",
      "Epoch 741/1000, train_loss: 0.061349, val_loss: 0.005018\n",
      "Epoch 751/1000, train_loss: 0.061625, val_loss: 0.005018\n",
      "Epoch 00759: reducing learning rate of group 0 to 1.0000e-08.\n",
      "Epoch 761/1000, train_loss: 0.062085, val_loss: 0.005018\n",
      "Epoch 771/1000, train_loss: 0.061249, val_loss: 0.005018\n",
      "Epoch 781/1000, train_loss: 0.061381, val_loss: 0.005018\n",
      "Epoch 791/1000, train_loss: 0.061961, val_loss: 0.005018\n",
      "Epoch 801/1000, train_loss: 0.061290, val_loss: 0.005018\n",
      "Epoch 811/1000, train_loss: 0.060853, val_loss: 0.005018\n",
      "Epoch 821/1000, train_loss: 0.060948, val_loss: 0.005018\n",
      "Epoch 831/1000, train_loss: 0.061874, val_loss: 0.005018\n",
      "Epoch 841/1000, train_loss: 0.061177, val_loss: 0.005018\n",
      "Epoch 851/1000, train_loss: 0.061255, val_loss: 0.005018\n",
      "Epoch 861/1000, train_loss: 0.060687, val_loss: 0.005018\n",
      "Epoch 871/1000, train_loss: 0.061068, val_loss: 0.005018\n",
      "Epoch 881/1000, train_loss: 0.061199, val_loss: 0.005018\n",
      "Epoch 891/1000, train_loss: 0.060899, val_loss: 0.005018\n",
      "Epoch 901/1000, train_loss: 0.061656, val_loss: 0.005018\n",
      "Epoch 911/1000, train_loss: 0.061399, val_loss: 0.005018\n",
      "Epoch 921/1000, train_loss: 0.061398, val_loss: 0.005018\n",
      "Epoch 931/1000, train_loss: 0.061639, val_loss: 0.005018\n",
      "Epoch 941/1000, train_loss: 0.061435, val_loss: 0.005018\n",
      "Epoch 951/1000, train_loss: 0.061019, val_loss: 0.005018\n",
      "Epoch 961/1000, train_loss: 0.061615, val_loss: 0.005018\n",
      "Epoch 971/1000, train_loss: 0.061355, val_loss: 0.005018\n",
      "Epoch 981/1000, train_loss: 0.061227, val_loss: 0.005017\n",
      "Epoch 991/1000, train_loss: 0.060927, val_loss: 0.005017\n",
      "LSTM training end\n",
      "\n"
     ]
    }
   ],
   "source": [
    "lstm_trainer.run()"
   ]
  },
  {
   "cell_type": "code",
   "execution_count": 9,
   "metadata": {},
   "outputs": [],
   "source": [
    "def getTest(seq_length:int):\n",
    "    encoded_dir_list = np.sort(glob.glob('encoded_traj_BCE/exp/*1_06_*.npy'))\n",
    "    encoded_cfd_dir_list = np.sort(glob.glob('encoded_traj_BCE/cfd/*1_06_*.npy'))\n",
    "    print(encoded_dir_list)\n",
    "    print(encoded_cfd_dir_list)\n",
    "    sample_arr = np.zeros((0,seq_length,16))\n",
    "    label_arr = np.zeros((0,seq_length,16))\n",
    "    cfd_arr = np.zeros((0,seq_length,16))\n",
    "    num_set = encoded_dir_list.shape[0]\n",
    "    for (dir, cfd_dir) in zip(encoded_dir_list, encoded_cfd_dir_list):\n",
    "        encoded = np.load(dir)\n",
    "        cfd_encoded = np.load(cfd_dir)\n",
    "        num_seq = int(encoded.shape[0]/seq_length)-1\n",
    "        for i in range(num_seq):\n",
    "            sample_arr = np.concatenate((sample_arr, encoded[i*seq_length:(i+1)*seq_length].reshape(1,seq_length,16)), axis=0)\n",
    "            label_arr = np.concatenate((label_arr, encoded[(i+1)*seq_length:(i+2)*seq_length].reshape(1,seq_length,16)), axis=0)\n",
    "            cfd_arr = np.concatenate((cfd_arr, cfd_encoded[(i+1)*seq_length:(i+2)*seq_length].reshape(1,seq_length,16)), axis=0)\n",
    "    return sample_arr, label_arr, cfd_arr, num_set"
   ]
  },
  {
   "cell_type": "code",
   "execution_count": 10,
   "metadata": {},
   "outputs": [
    {
     "name": "stdout",
     "output_type": "stream",
     "text": [
      "['encoded_traj_BCE/exp/exp_01_06_C13_encoded.npy'\n",
      " 'encoded_traj_BCE/exp/exp_01_06_C1_encoded.npy'\n",
      " 'encoded_traj_BCE/exp/exp_1_06_part2_NC14_encoded.npy']\n",
      "['encoded_traj_BCE/cfd/cfd_01_06_C13_encoded.npy'\n",
      " 'encoded_traj_BCE/cfd/cfd_01_06_C1_encoded.npy'\n",
      " 'encoded_traj_BCE/cfd/cfd_1_06_part2_NC14_encoded.npy']\n"
     ]
    }
   ],
   "source": [
    "x_test, y_test, cfd_test, num_set = getTest(seq_length) #304 datasets"
   ]
  },
  {
   "cell_type": "code",
   "execution_count": 11,
   "metadata": {},
   "outputs": [
    {
     "data": {
      "text/plain": [
       "DropsLSTM(\n",
       "  (lstm): LSTM(16, 128, num_layers=3, batch_first=True)\n",
       "  (linear): Sequential(\n",
       "    (0): Linear(in_features=128, out_features=128, bias=True)\n",
       "    (1): LeakyReLU(negative_slope=0.01)\n",
       "    (2): Linear(in_features=128, out_features=128, bias=True)\n",
       "    (3): LeakyReLU(negative_slope=0.01)\n",
       "    (4): Dropout(p=0.1, inplace=False)\n",
       "    (5): Linear(in_features=128, out_features=16, bias=True)\n",
       "  )\n",
       ")"
      ]
     },
     "execution_count": 11,
     "metadata": {},
     "output_type": "execute_result"
    }
   ],
   "source": [
    "LSTM_model.load_state_dict(torch.load('best_lstm.pth'))\n",
    "LSTM_model.to(device)"
   ]
  },
  {
   "cell_type": "code",
   "execution_count": 12,
   "metadata": {},
   "outputs": [],
   "source": [
    "B_coeff = 0.2\n",
    "def VAR_3D(xb,Y,H,B,R): #booleen=0 garde la trace\n",
    "    # xb: priori, Y: observation, H: obs. matrix, B: priori estimate uncertainty\n",
    "    # R: Measurement uncertainty\n",
    "    dim_x = xb.size\n",
    "    #dim_y = Y.size\n",
    "    Y.shape = (Y.size,1)\n",
    "    xb1=np.copy(xb)\n",
    "    xb1.shape=(xb1.size,1)\n",
    "    K=np.dot(B,np.dot(np.transpose(H),np.linalg.pinv(np.dot(H,np.dot(B,np.transpose(H)))+R))) #matrice de gain\n",
    "    \n",
    "    A=np.dot(np.dot((np.eye(dim_x)-np.dot(K,H)),B),np.transpose((np.eye(dim_x)-np.dot(K,H))))+np.dot(np.dot(K,R),np.transpose(K))\n",
    "    vect=np.dot(H,xb1)\n",
    "    xa=np.copy(xb1+np.dot(K,(Y-vect)))\n",
    "    return xa.ravel(),A\n",
    "\n",
    "def getPred(inputs):\n",
    "    inputs = inputs.reshape(num_set,-1,seq_length,16)\n",
    "    #labels = labels.reshape(8,38,5,16)\n",
    "    starts = inputs[:,0,:,:]\n",
    "    preds = torch.zeros_like(inputs)\n",
    "    for i in range(inputs.shape[0]):\n",
    "        for j in range(inputs.shape[1]):\n",
    "            if j == 0:\n",
    "                current_state = starts[i]\n",
    "            current_state = LSTM_model(current_state)\n",
    "            preds[i][j] = current_state.reshape(seq_length,16)\n",
    "    return preds\n",
    "\n",
    "def getDAPred(inputs,labels,cfd):\n",
    "    inputs = inputs.reshape(num_set,-1,seq_length,16)\n",
    "    labels = labels.reshape(num_set,-1,seq_length,16)\n",
    "    cfd = cfd.reshape(num_set,-1,seq_length,16)\n",
    "    starts = inputs[:,0,:,:]\n",
    "    preds = torch.zeros_like(inputs)\n",
    "    latent_size = int(seq_length*16)\n",
    "    for i in range(inputs.shape[0]):\n",
    "        for j in range(inputs.shape[1]):\n",
    "            if j == 0:\n",
    "                current_state = starts[i]\n",
    "            current_state = LSTM_model(current_state)\n",
    "            if j != 0:\n",
    "                xa_seq,_ = VAR_3D(current_state.cpu().detach().numpy().ravel(),cfd[i][j].ravel(),np.eye(latent_size),B_coeff*np.eye(latent_size),np.eye(latent_size))\n",
    "                current_state = torch.tensor(xa_seq.reshape(seq_length,16), dtype=torch.float32, device=device)\n",
    "            preds[i][j] = current_state.reshape(seq_length,16)\n",
    "    return preds"
   ]
  },
  {
   "cell_type": "code",
   "execution_count": 13,
   "metadata": {},
   "outputs": [
    {
     "data": {
      "text/plain": [
       "torch.Size([3, 38, 5, 16])"
      ]
     },
     "execution_count": 13,
     "metadata": {},
     "output_type": "execute_result"
    }
   ],
   "source": [
    "preds = getPred(torch.tensor(x_test, dtype=torch.float32, device=device))\n",
    "preds.shape"
   ]
  },
  {
   "cell_type": "code",
   "execution_count": 14,
   "metadata": {},
   "outputs": [
    {
     "data": {
      "text/plain": [
       "torch.Size([3, 38, 5, 16])"
      ]
     },
     "execution_count": 14,
     "metadata": {},
     "output_type": "execute_result"
    }
   ],
   "source": [
    "DA_preds = getDAPred(torch.tensor(x_test, dtype=torch.float32, device=device),\n",
    "                     torch.tensor(y_test, dtype=torch.float32, device=device),\n",
    "                     cfd_test)\n",
    "DA_preds.shape"
   ]
  },
  {
   "cell_type": "code",
   "execution_count": 15,
   "metadata": {},
   "outputs": [
    {
     "name": "stderr",
     "output_type": "stream",
     "text": [
      "The PostScript backend does not support transparency; partially transparent artists will be rendered opaque.\n"
     ]
    },
    {
     "data": {
      "image/png": "[encoded data removed]",
      "text/plain": [
       "<Figure size 1200x300 with 3 Axes>"
      ]
     },
     "metadata": {},
     "output_type": "display_data"
    }
   ],
   "source": [
    "labels = torch.tensor(y_test.reshape(num_set,-1,5,16), dtype=torch.float32, device=device)\n",
    "flat_preds = preds.reshape(labels.shape[0], -1, 16)\n",
    "flat_DA_preds = DA_preds.reshape(labels.shape[0],-1,16)\n",
    "flat_label = labels.reshape(labels.shape[0], -1, 16)\n",
    "fig, axs = plt.subplots(1,3, figsize=(12,3), sharex=True)\n",
    "fig.tight_layout()\n",
    "axs =axs.flatten()\n",
    "lstm_err = np.array(())\n",
    "DA_err = np.array(())\n",
    "DAMod_err = np.array(())\n",
    "for i in range(labels.shape[0]):\n",
    "    tmp_err = torch.zeros(flat_label.shape[1])\n",
    "    tmp_DA_err = torch.zeros(flat_label.shape[1])\n",
    "    tmp_cfd_err = torch.zeros(flat_label.shape[1])\n",
    "    for j in range(flat_label.shape[1]):\n",
    "        tmp_err[j] = torch.nn.functional.mse_loss(flat_preds[i][j], flat_label[i][j], reduction='sum')/torch.norm(flat_label[i][j], p=1)\n",
    "        tmp_DA_err[j] = torch.nn.functional.mse_loss(flat_DA_preds[i][j], flat_label[i][j], reduction='sum')/torch.norm(flat_label[i][j], p=1)\n",
    "    axs[i].plot(tmp_err.detach().numpy(), label = 'LSTM')\n",
    "    axs[i].plot(tmp_DA_err.detach().numpy(), label = 'MEDLA')\n",
    "    lstm_err = np.concatenate((lstm_err, tmp_err.detach().numpy()))\n",
    "    DA_err = np.concatenate((DA_err, tmp_DA_err.detach().numpy()))\n",
    "axs[2].legend()\n",
    "axs[0].set_ylabel('MSE Loss of latent trajectory')\n",
    "axs[0].set_xlabel('No. of frame')\n",
    "axs[1].set_xlabel('No. of frame')\n",
    "axs[2].set_xlabel('No. of frame')\n",
    "axs[0].set_title('Trajectory 1')\n",
    "axs[1].set_title('Trajectory 2')\n",
    "axs[2].set_title('Trajectory 3')\n",
    "plt.savefig('Drop_3_traj.eps')"
   ]
  },
  {
   "cell_type": "code",
   "execution_count": 16,
   "metadata": {},
   "outputs": [
    {
     "name": "stdout",
     "output_type": "stream",
     "text": [
      "LSTM MSE:\n",
      "(190,) 0.8666607199530852\n",
      "(190,) 2.5395591553888823\n",
      "(190,) 3.7808181254487288\n",
      "LSTM RMSE:\n",
      "(190,) 0.9309461423482485\n",
      "(190,) 1.593599433794102\n",
      "(190,) 1.9444325973015184\n"
     ]
    }
   ],
   "source": [
    "tmp_err = lstm_err\n",
    "print('LSTM MSE:')\n",
    "print(tmp_err[:190].shape,np.mean(tmp_err[:190]))\n",
    "print(tmp_err[190:380].shape,np.mean(tmp_err[190:380]))\n",
    "print(tmp_err[380:570].shape,np.mean(tmp_err[380:570]))\n",
    "print('LSTM RMSE:')\n",
    "print(tmp_err[:190].shape,np.sqrt(np.mean(tmp_err[:190])))\n",
    "print(tmp_err[190:380].shape,np.sqrt(np.mean(tmp_err[190:380])))\n",
    "print(tmp_err[380:570].shape,np.sqrt(np.mean(tmp_err[380:570])))"
   ]
  },
  {
   "cell_type": "code",
   "execution_count": 17,
   "metadata": {},
   "outputs": [
    {
     "name": "stdout",
     "output_type": "stream",
     "text": [
      "LSTM MSE:\n",
      "(190,) 0.6656601973270115\n",
      "(190,) 2.0087871959334924\n",
      "(190,) 3.0190766466291326\n",
      "LSTM RMSE:\n",
      "(190,) 0.81588001405048\n",
      "(190,) 1.4173169003202821\n",
      "(190,) 1.737549034309286\n"
     ]
    }
   ],
   "source": [
    "tmp_err = DA_err\n",
    "print('LSTM MSE:')\n",
    "print(tmp_err[:190].shape,np.mean(tmp_err[:190]))\n",
    "print(tmp_err[190:380].shape,np.mean(tmp_err[190:380]))\n",
    "print(tmp_err[380:570].shape,np.mean(tmp_err[380:570]))\n",
    "print('LSTM RMSE:')\n",
    "print(tmp_err[:190].shape,np.sqrt(np.mean(tmp_err[:190])))\n",
    "print(tmp_err[190:380].shape,np.sqrt(np.mean(tmp_err[190:380])))\n",
    "print(tmp_err[380:570].shape,np.sqrt(np.mean(tmp_err[380:570])))"
   ]
  }
 ],
 "metadata": {
  "kernelspec": {
   "display_name": "pytorch2",
   "language": "python",
   "name": "python3"
  },
  "language_info": {
   "codemirror_mode": {
    "name": "ipython",
    "version": 3
   },
   "file_extension": ".py",
   "mimetype": "text/x-python",
   "name": "python",
   "nbconvert_exporter": "python",
   "pygments_lexer": "ipython3",
   "version": "3.11.5"
  }
 },
 "nbformat": 4,
 "nbformat_minor": 2
}
